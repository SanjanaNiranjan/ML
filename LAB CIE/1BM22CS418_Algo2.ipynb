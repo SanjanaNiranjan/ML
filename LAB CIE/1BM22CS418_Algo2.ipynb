{
  "nbformat": 4,
  "nbformat_minor": 0,
  "metadata": {
    "colab": {
      "provenance": []
    },
    "kernelspec": {
      "name": "python3",
      "display_name": "Python 3"
    },
    "language_info": {
      "name": "python"
    }
  },
  "cells": [
    {
      "cell_type": "code",
      "execution_count": 1,
      "metadata": {
        "colab": {
          "base_uri": "https://localhost:8080/"
        },
        "id": "qIFYnzyZScZJ",
        "outputId": "fb082fd1-7154-4d10-bf44-69076bfaa4e5"
      },
      "outputs": [
        {
          "output_type": "stream",
          "name": "stdout",
          "text": [
            "Accuracy: 0.9473684210526315\n",
            "\n",
            "Classification Report:\n",
            "               precision    recall  f1-score   support\n",
            "\n",
            "           0       0.96      0.90      0.93       113\n",
            "           1       0.94      0.98      0.96       172\n",
            "\n",
            "    accuracy                           0.95       285\n",
            "   macro avg       0.95      0.94      0.94       285\n",
            "weighted avg       0.95      0.95      0.95       285\n",
            "\n"
          ]
        }
      ],
      "source": [
        "from sklearn.datasets import load_breast_cancer\n",
        "from sklearn.model_selection import train_test_split\n",
        "from sklearn.ensemble import RandomForestClassifier\n",
        "from sklearn.metrics import accuracy_score, classification_report\n",
        "\n",
        "cancer = load_breast_cancer()\n",
        "X = cancer.data  # Independent variables\n",
        "y = cancer.target  # Target variable\n",
        "\n",
        "X_train, X_test, y_train, y_test = train_test_split(X, y, test_size=0.5, random_state=32)\n",
        "\n",
        "rf_classifier = RandomForestClassifier()\n",
        "rf_classifier.fit(X_train, y_train)\n",
        "\n",
        "y_pred = rf_classifier.predict(X_test)\n",
        "\n",
        "accuracy = accuracy_score(y_test, y_pred)\n",
        "print(\"Accuracy:\", accuracy)\n",
        "\n",
        "classification_rep = classification_report(y_test, y_pred)\n",
        "print(\"\\nClassification Report:\\n\", classification_rep)\n"
      ]
    }
  ]
}